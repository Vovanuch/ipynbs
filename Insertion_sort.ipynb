{
  "nbformat": 4,
  "nbformat_minor": 0,
  "metadata": {
    "colab": {
      "name": "Insertion_sort.ipynb",
      "provenance": [],
      "authorship_tag": "ABX9TyPsNSxejLWYg3HMu0ixLPnF",
      "include_colab_link": true
    },
    "kernelspec": {
      "name": "python3",
      "display_name": "Python 3"
    }
  },
  "cells": [
    {
      "cell_type": "markdown",
      "metadata": {
        "id": "view-in-github",
        "colab_type": "text"
      },
      "source": [
        "<a href=\"https://colab.research.google.com/github/Vovanuch/ipynbs/blob/main/Insertion_sort.ipynb\" target=\"_parent\"><img src=\"https://colab.research.google.com/assets/colab-badge.svg\" alt=\"Open In Colab\"/></a>"
      ]
    },
    {
      "cell_type": "markdown",
      "metadata": {
        "id": "du1QDitUbMIN"
      },
      "source": [
        "## Сортировка простыми вставками\n",
        "\n",
        "Алгоритм сортировки простыми вставками делит список на 2 части — отсортированную и неотсортированную. Из неотсортированной части извлекается очередной элемент и вставляется на нужную позицию, в результате чего отсортированная часть списка увеличивается, а неотсортированная уменьшается. Так происходит, пока не исчерпан набор входных данных  и не отсортированы все элементы.\n",
        "\n",
        "Сортировка простыми вставками наиболее эффективна когда список уже частично отсортирован и элементов массива немного. Если элементов в списке меньше 10, то этот алгоритм — один из самых быстрых."
      ]
    },
    {
      "cell_type": "code",
      "metadata": {
        "colab": {
          "base_uri": "https://localhost:8080/"
        },
        "id": "xQb1j_HXbPXW",
        "outputId": "8e25c6bc-5cdc-4945-bb80-8626b13b69d4"
      },
      "source": [
        "a = [1, 7, -3, 9, 0, -67, 34, 12, 45, 1000, 6,  8, -2, 99]\n",
        "n = len(a)\n",
        "\n",
        "print(a)\n",
        "\n",
        "for i in range(1, n): \n",
        "    elem = a[i]  # первый элемент из неотсортированной части списка\n",
        "    j = i\n",
        "    while j >= 1 and a[j - 1] > elem: \n",
        "        a[j] = a[j - 1]\n",
        "        j -= 1\n",
        "    a[j] = elem\n",
        "\n",
        "\n",
        "print('Отсортированный список:', a)"
      ],
      "execution_count": null,
      "outputs": [
        {
          "output_type": "stream",
          "text": [
            "[1, 7, -3, 9, 0, -67, 34, 12, 45, 1000, 6, 8, -2, 99]\n",
            "Отсортированный список: [-67, -3, -2, 0, 1, 6, 7, 8, 9, 12, 34, 45, 99, 1000]\n"
          ],
          "name": "stdout"
        }
      ]
    },
    {
      "cell_type": "markdown",
      "metadata": {
        "id": "5mKM4ItnbwvU"
      },
      "source": [
        "## Оптимизация алгоритма\n",
        "\n",
        "Алгоритм сортировки простыми вставками можно значительно ускорить если осуществлять поиск нужной позиции для вставки очередного элемента из неотсортированной части списка с помощью бинарного поиска."
      ]
    },
    {
      "cell_type": "markdown",
      "metadata": {
        "id": "oztdEEVkcKiu"
      },
      "source": [
        "### Чуть-чуть другая реализация:"
      ]
    },
    {
      "cell_type": "code",
      "metadata": {
        "colab": {
          "base_uri": "https://localhost:8080/"
        },
        "id": "mya9sf0kbLfX",
        "outputId": "6aabb2c3-d955-4773-f529-2ed93fa99e03"
      },
      "source": [
        "a = [1, 7, -3, 9, 0, -67, 34, 12, 45, 1000, 6,  8, -2, 99]\n",
        "n = len(a)\n",
        "\n",
        "for i in range(1, n):\n",
        "    e = a.pop(i)\n",
        "    while i >= 1 and a[i - 1] > e:\n",
        "        i -= 1\n",
        "    a.insert(i, e)\n",
        "\n",
        "print(a)"
      ],
      "execution_count": null,
      "outputs": [
        {
          "output_type": "stream",
          "text": [
            "[-67, -3, -2, 0, 1, 6, 7, 8, 9, 12, 34, 45, 99, 1000]\n"
          ],
          "name": "stdout"
        }
      ]
    },
    {
      "cell_type": "markdown",
      "metadata": {
        "id": "J6C1pTFOcyl2"
      },
      "source": [
        "### Третий вариант"
      ]
    },
    {
      "cell_type": "code",
      "metadata": {
        "colab": {
          "base_uri": "https://localhost:8080/"
        },
        "id": "Y4ZrR4jccwwb",
        "outputId": "f21c1021-98c8-4481-8777-b3d4a1955d11"
      },
      "source": [
        "\n",
        "a = [1, 7, -3, 9, 0, -67, 34, 12, 45, 1000, 6,  8, -2, 99]\n",
        "n = len(a)\n",
        "\n",
        "print('Начальный список:', a)\n",
        "\n",
        "for i in range(1, n): \n",
        "    elem = a[i]  # первый элемент из неотсортированной части списка\n",
        "    j = i\n",
        "    while j >= 1 and a[j - 1] > elem: \n",
        "        a[j], a[j - 1] = a[j - 1], a[j]\n",
        "        j -= 1\n",
        "\n",
        "\n",
        "print('Отсортированный список:', a)\n"
      ],
      "execution_count": null,
      "outputs": [
        {
          "output_type": "stream",
          "text": [
            "Начальный список [1, 7, -3, 9, 0, -67, 34, 12, 45, 1000, 6, 8, -2, 99]\n",
            "Отсортированный список: [-67, -3, -2, 0, 1, 6, 7, 8, 9, 12, 34, 45, 99, 1000]\n"
          ],
          "name": "stdout"
        }
      ]
    },
    {
      "cell_type": "markdown",
      "metadata": {
        "id": "dcSHj6DkdK9Q"
      },
      "source": [
        ""
      ]
    }
  ]
}