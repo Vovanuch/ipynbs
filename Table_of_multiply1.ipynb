{
  "nbformat": 4,
  "nbformat_minor": 0,
  "metadata": {
    "colab": {
      "name": "Копия блокнота \"Untitled0.ipynb\"",
      "provenance": [],
      "authorship_tag": "ABX9TyOvVUWcMjAEanaoliL44ADw",
      "include_colab_link": true
    },
    "kernelspec": {
      "name": "python3",
      "display_name": "Python 3"
    }
  },
  "cells": [
    {
      "cell_type": "markdown",
      "metadata": {
        "id": "view-in-github",
        "colab_type": "text"
      },
      "source": [
        "<a href=\"https://colab.research.google.com/github/Vovanuch/ipynbs/blob/main/Table_of_multiply1.ipynb\" target=\"_parent\"><img src=\"https://colab.research.google.com/assets/colab-badge.svg\" alt=\"Open In Colab\"/></a>"
      ]
    },
    {
      "cell_type": "markdown",
      "metadata": {
        "id": "PHzWOVl1BWa8"
      },
      "source": [
        "##Таблица умножения\n",
        "\n",
        "Дано натуральное число n. Напишите программу, которая выводит таблицу умножения на n.\n",
        "\n",
        "Формат входных данных\n",
        "На вход программе подается натуральное число.\n",
        "\n",
        "Формат выходных данных\n",
        "Программа должна вывести таблицу умножения на введеное число."
      ]
    },
    {
      "cell_type": "code",
      "metadata": {
        "colab": {
          "base_uri": "https://localhost:8080/"
        },
        "id": "AwuSUmv8BzsY",
        "outputId": "343a8c6d-6d71-4dc3-8d81-d29f5bff3353"
      },
      "source": [
        "n = int(input().strip())\n",
        "\n",
        "for i in range(1, 11):\n",
        "    print(f'{n} x {i} = {n * i}')\n"
      ],
      "execution_count": null,
      "outputs": [
        {
          "output_type": "stream",
          "text": [
            "7\n",
            "7 x 1 = 7\n",
            "7 x 2 = 14\n",
            "7 x 3 = 21\n",
            "7 x 4 = 28\n",
            "7 x 5 = 35\n",
            "7 x 6 = 42\n",
            "7 x 7 = 49\n",
            "7 x 8 = 56\n",
            "7 x 9 = 63\n",
            "7 x 10 = 70\n"
          ],
          "name": "stdout"
        }
      ]
    },
    {
      "cell_type": "code",
      "metadata": {
        "id": "wihgVM1uBdbN"
      },
      "source": [
        ""
      ],
      "execution_count": null,
      "outputs": []
    }
  ]
}