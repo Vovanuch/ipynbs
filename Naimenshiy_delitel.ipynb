{
  "nbformat": 4,
  "nbformat_minor": 0,
  "metadata": {
    "colab": {
      "name": "Naimenshiy_delitel.ipynb",
      "provenance": [],
      "authorship_tag": "ABX9TyOOiRBtUvUi9UGD2y6DGZuC",
      "include_colab_link": true
    },
    "kernelspec": {
      "name": "python3",
      "display_name": "Python 3"
    }
  },
  "cells": [
    {
      "cell_type": "markdown",
      "metadata": {
        "id": "view-in-github",
        "colab_type": "text"
      },
      "source": [
        "<a href=\"https://colab.research.google.com/github/Vovanuch/ipynbs/blob/main/Naimenshiy_delitel.ipynb\" target=\"_parent\"><img src=\"https://colab.research.google.com/assets/colab-badge.svg\" alt=\"Open In Colab\"/></a>"
      ]
    },
    {
      "cell_type": "markdown",
      "metadata": {
        "id": "WdGDPsX3u6SF"
      },
      "source": [
        "## Наименьший делитель\n",
        "\n",
        "На вход программе подается число n>1n > 1n>1. Напишите программу, которая выводит его наименьший отличный от 111 делитель.\n",
        "\n",
        "Формат входных данных\n",
        "На вход программе подается одно натуральное число nnn.\n",
        "\n",
        "Формат выходных данных\n",
        "Программа должна вывести наименьший делитель отличный от 111.\n",
        "\n",
        "Примечание. Используйте оператор break при обнаружении делителя.\n",
        "\n",
        "Sample Input 1:\n",
        "\n",
        "15\n",
        "\n",
        "Sample Output 1:\n",
        "\n",
        "3\n",
        "\n",
        "Sample Input 2:\n",
        "\n",
        "17\n",
        "\n",
        "Sample Output 2:\n",
        "\n",
        "17\n",
        "\n",
        "Sample Input 3:\n",
        "\n",
        "67834658736534870\n",
        "\n",
        "Sample Output 3:\n",
        "\n",
        "2\n",
        "\n"
      ]
    },
    {
      "cell_type": "code",
      "metadata": {
        "colab": {
          "base_uri": "https://localhost:8080/"
        },
        "id": "I2T3ctepu3nV",
        "outputId": "846377ba-a020-4c61-98be-ca10e2a601d2"
      },
      "source": [
        "n = int(input().strip())\n",
        "for _ in range(2, n + 1):\n",
        "    if n % _ == 0:\n",
        "        print(_)\n",
        "        break"
      ],
      "execution_count": null,
      "outputs": [
        {
          "output_type": "stream",
          "text": [
            "17\n",
            "17\n"
          ],
          "name": "stdout"
        }
      ]
    },
    {
      "cell_type": "code",
      "metadata": {
        "id": "Sku3Xkdfu9fp"
      },
      "source": [
        ""
      ],
      "execution_count": null,
      "outputs": []
    }
  ]
}