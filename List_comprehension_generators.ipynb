{
  "nbformat": 4,
  "nbformat_minor": 0,
  "metadata": {
    "colab": {
      "name": "List_comprehension - generators.ipynb",
      "provenance": [],
      "authorship_tag": "ABX9TyNcW3MH480d0ImuoCmGnmJF",
      "include_colab_link": true
    },
    "kernelspec": {
      "name": "python3",
      "display_name": "Python 3"
    }
  },
  "cells": [
    {
      "cell_type": "markdown",
      "metadata": {
        "id": "view-in-github",
        "colab_type": "text"
      },
      "source": [
        "<a href=\"https://colab.research.google.com/github/Vovanuch/ipynbs/blob/main/List_comprehension_generators.ipynb\" target=\"_parent\"><img src=\"https://colab.research.google.com/assets/colab-badge.svg\" alt=\"Open In Colab\"/></a>"
      ]
    },
    {
      "cell_type": "markdown",
      "metadata": {
        "id": "RoeXJQmwXKGc"
      },
      "source": [
        "## Создание списков"
      ]
    },
    {
      "cell_type": "code",
      "metadata": {
        "id": "3w8HFZ__WjDx"
      },
      "source": [
        "Создание списков\n",
        "\n",
        "Для того, чтобы создать список состоящий из 101010 нулей мы можем использовать следующий код:\n",
        "\n",
        "zeros = []\n",
        "for i in range(10):\n",
        "    zeros.append(0)\n",
        "\n",
        "В Python, однако есть более простой и компактный способ для создания такого списка. Мы можем использовать оператор умножения списка на число:\n",
        "\n",
        "zeros = [0] * 10\n",
        "\n",
        "Для создания списков, заполненных по более сложным правилам нам приходится явно использовать цикл for.\n",
        "\n",
        "Например, для создания списка целых чисел от 000 до 999, мы вынуждены писать такой код:\n",
        "\n",
        "numbers = []\n",
        "for i in range(10):\n",
        "    numbers.append(i)\n",
        "\n",
        "Такой код хоть и не является сложным, однако достаточно громоздок.\n",
        "Списочные выражения\n",
        "\n",
        "В Python есть механизм для создания списков из неповторяющихся элементов. Такой механизм называется — списочное выражение (list comprehension).\n",
        "\n",
        "Предыдущий код можно записать следующим образом:\n",
        "\n",
        "numbers = [i for i in range(10)]\n",
        "\n",
        "Общий вид списочного выражения следующий:\n",
        "\n",
        "[выражение for переменная in последовательность]\n",
        "\n",
        "где переменная — имя некоторой переменной, последовательность — последовательность значений, которые она принимает (список, строка или объект, полученный при помощи функции range), выражение — некоторое выражение, как правило, зависящее от использованной в списочном выражении переменной, которым будут заполнены элементы списка.\n",
        "Примеры использования списочных выражений\n",
        "\n",
        "1. Создать список, заполненный 10 нулями можно и при помощи списочного выражения:\n",
        "\n",
        "zeros = [0 for i in range(10)]\n",
        "\n",
        "2. Создать список, заполненный квадратами целых чисел от 0 до 9 можно так:\n",
        "\n",
        "squares = [i ** 2 for i in range(10)]\n",
        "\n",
        "3. Создать список, заполненный кубами целых чисел от 10 до 20 можно так:\n",
        "\n",
        "cubes = [i ** 3 for i in range(10, 21)]\n",
        "\n",
        "4. Создать список, заполненный символами строки:\n",
        "\n",
        "chars = [c for c in 'abcdefg']\n",
        "print(chars)\n",
        "\n",
        "Считывание входных данных\n",
        "\n",
        "При решении многих задач из предыдущих уроков мы считывали начальные данные (строки, числа) и заполняли ими список. С помощью списочных выражений процесс заполнения списка можно заметно сократить.\n",
        "\n",
        "Например, если сначала вводится число n – количество строк, а затем сами строки, то создать список можно так:\n",
        "\n",
        "n = int(input())\n",
        "lines = [input() for _ in range(n)]\n",
        "\n",
        "Можно опустить описание переменной n:\n",
        "\n",
        "lines = [input() for _ in range(int(input()))]\n",
        "\n",
        "Если требуется считать список чисел, то необходимо добавить преобразование типов:\n",
        "\n",
        "numbers = [int(input()) for _ in range(int(input()))]\n",
        "\n",
        "Обратите внимание, мы используем символ _ в качестве имени переменной цикла, поскольку она не используется.\n",
        "\n",
        "Списочные выражения часто используются для инициализации списков. В Python не принято создавать пустые списки, а затем заполнять их значениями, если можно этого избежать.\n",
        "Условия в списочном выражении\n",
        "\n",
        "В списочных выражениях можно использовать условный оператор. Например, если требуется создать список четных чисел от 0 до 20, то мы можем написать такой код:\n",
        "\n",
        "evens = [i for i in range(21) if i % 2 == 0]\n",
        "\n",
        "Важно: для того, чтобы получить список, состоящий из четных чисел, лучше использовать функцию range(0, 21, 2). Предыдущий пример приведен для демонстрации возможности использования условий в списочных выражениях.\n",
        "Вложенные циклы\n",
        "\n",
        "В списочном выражении можно использовать вложенные циклы.\n",
        "\n",
        "Следующий программный код:\n",
        "\n",
        "numbers = [i * j for i in range(1, 5) for j in range(2)]\n",
        "print(numbers)\n",
        "\n",
        "выведет список:\n",
        "\n",
        "[0, 1, 0, 2, 0, 3, 0, 4]\n",
        "\n",
        "Такой код равнозначен следующему:\n",
        "\n",
        "numbers = []\n",
        "\n",
        "for i in range(1, 5):\n",
        "    for j in range(2):\n",
        "        numbers.append(i * j)\n",
        "print(numbers)\n",
        "\n",
        "Подводя итог\n",
        "\n",
        "Пусть word = 'Hello', numbers = [1, 14, 5, 9, 12], words = ['one', 'two', 'three', 'four', 'five', 'six'].\n",
        "Списочное выражение \tРезультирующий список\n",
        "[0 for i in range(10)] \t[0, 0, 0, 0, 0, 0, 0, 0, 0, 0]\n",
        "[i ** 2 for i in range(1, 8)] \t[1, 4, 9, 16, 25, 36, 49]\n",
        "[i * 10 for i in numbers] \t[10, 140, 50, 90, 120]\n",
        "[c * 2 for c in word] \t['HH', 'ee', 'll', 'll', 'oo']\n",
        "[m[0] for m in words] \t['o', 't', 't', 'f', 'f', 's']\n",
        "[i for i in numbers if i < 10] \t[1, 5, 9]\n",
        "[m[0] for m in words if len(m) == 3] \t['o', 't', 's']\n"
      ],
      "execution_count": null,
      "outputs": []
    },
    {
      "cell_type": "code",
      "metadata": {
        "colab": {
          "base_uri": "https://localhost:8080/"
        },
        "id": "1EcgfrSuXmfP",
        "outputId": "3abef58f-ae12-4039-c573-0566ed7f5e1d"
      },
      "source": [
        "numbers = [int(input().strip()) for _ in range(int(input().strip()))] # generate list of integers form input\n",
        "print(numbers)"
      ],
      "execution_count": null,
      "outputs": [
        {
          "output_type": "stream",
          "text": [
            "4\n",
            "1\n",
            "2\n",
            "5\n",
            "4\n",
            "[1, 2, 5, 4]\n"
          ],
          "name": "stdout"
        }
      ]
    },
    {
      "cell_type": "code",
      "metadata": {
        "colab": {
          "base_uri": "https://localhost:8080/"
        },
        "id": "ojIRFOzSYN7w",
        "outputId": "f761be30-a0a6-4683-c55d-2378ae96ed3c"
      },
      "source": [
        "nums_in_3_pow = [s * 3 for s in range(int(input()))]\n",
        "print(nums_in_3_pow)"
      ],
      "execution_count": null,
      "outputs": [
        {
          "output_type": "stream",
          "text": [
            "5\n",
            "[0, 3, 6, 9, 12]\n"
          ],
          "name": "stdout"
        }
      ]
    }
  ]
}