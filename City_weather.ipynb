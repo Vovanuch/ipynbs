{
  "nbformat": 4,
  "nbformat_minor": 0,
  "metadata": {
    "colab": {
      "name": "City_weather.ipynb",
      "provenance": [],
      "authorship_tag": "ABX9TyNnlIHvPvIEdrmz805oNiHj",
      "include_colab_link": true
    },
    "kernelspec": {
      "name": "python3",
      "display_name": "Python 3"
    }
  },
  "cells": [
    {
      "cell_type": "markdown",
      "metadata": {
        "id": "view-in-github",
        "colab_type": "text"
      },
      "source": [
        "<a href=\"https://colab.research.google.com/github/Vovanuch/ipynbs/blob/main/City_weather.ipynb\" target=\"_parent\"><img src=\"https://colab.research.google.com/assets/colab-badge.svg\" alt=\"Open In Colab\"/></a>"
      ]
    },
    {
      "cell_type": "markdown",
      "metadata": {
        "id": "qGLFP-0qJStz"
      },
      "source": [
        "##What is the weather in your city?"
      ]
    },
    {
      "cell_type": "code",
      "metadata": {
        "colab": {
          "base_uri": "https://localhost:8080/"
        },
        "id": "fLzzNxbaJCkh",
        "outputId": "d2aefd44-d092-4d84-8628-f558efd60cad"
      },
      "source": [
        "\n",
        "import requests\n",
        "\n",
        "# API key: 11c0d3dc6093f7442898ee49d2430d20\n",
        "def get_city():\n",
        "    city = input('Please, inter your city: ')\n",
        "    return(city)\n",
        "\n",
        "def create_params(city):\n",
        "    params = { \"q\": [city],\n",
        "               \"units\": \"metric\",\n",
        "               \"appid\": \"11c0d3dc6093f7442898ee49d2430d20\"\n",
        "        }\n",
        "    return params\n",
        "\n",
        "url = \"http://api.openweathermap.org/data/2.5/weather\"\n",
        "\n",
        "my_city = get_city()\n",
        "my_params = create_params(my_city)\n",
        "\n",
        "res = requests.get(url, params=my_params)\n",
        "data = res.json()\n",
        "d = data[\"weather\"][0]\n",
        "#print(data)\n",
        "print(f'Temperature in {my_city} is: {data[\"main\"][\"temp\"]}. But it feels like {data[\"main\"][\"feels_like\"]}' )\n",
        "print(f'Common weather in {my_city} is {d[\"description\"]}')\n"
      ],
      "execution_count": null,
      "outputs": [
        {
          "output_type": "stream",
          "text": [
            "Please, inter your city: Dubai\n",
            "Temperature in Dubai is: 23. But it feels like 19.76\n",
            "Common weather in Dubai is clear sky\n"
          ],
          "name": "stdout"
        }
      ]
    }
  ]
}