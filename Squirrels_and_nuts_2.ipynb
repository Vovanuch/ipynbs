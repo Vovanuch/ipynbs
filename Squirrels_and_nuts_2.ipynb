{
  "nbformat": 4,
  "nbformat_minor": 0,
  "metadata": {
    "colab": {
      "name": "Squirrels and nuts 2.ipynb",
      "provenance": [],
      "authorship_tag": "ABX9TyMoSPlTgFfA8r27VJNyHgrF",
      "include_colab_link": true
    },
    "kernelspec": {
      "name": "python3",
      "display_name": "Python 3"
    }
  },
  "cells": [
    {
      "cell_type": "markdown",
      "metadata": {
        "id": "view-in-github",
        "colab_type": "text"
      },
      "source": [
        "<a href=\"https://colab.research.google.com/github/Vovanuch/ipynbs/blob/main/Squirrels_and_nuts_2.ipynb\" target=\"_parent\"><img src=\"https://colab.research.google.com/assets/colab-badge.svg\" alt=\"Open In Colab\"/></a>"
      ]
    },
    {
      "cell_type": "markdown",
      "metadata": {
        "id": "c1jwVWEoYcVZ"
      },
      "source": [
        "'''\n",
        "##Squirrels and nuts - 2\n",
        "\n",
        "N squirrels found K nuts and decided to divide them equally. Find how many nuts will be left after each of the squirrels takes the equal amount of nuts.\n",
        "\n",
        "Input data format\n",
        "\n",
        "There are two positive integers N and K, each of them is not greater than 10000.\n",
        "\n",
        "Sample Input:\n",
        "\n",
        "3\n",
        "14\n",
        "\n",
        "Sample Output:\n",
        "\n",
        "2\n",
        "\n",
        "'''\n"
      ]
    },
    {
      "cell_type": "code",
      "metadata": {
        "colab": {
          "base_uri": "https://localhost:8080/"
        },
        "id": "dnIRFQeqYQWl",
        "outputId": "34834fa0-449f-4abe-8145-b40278b99cbf"
      },
      "source": [
        "n = int(input().strip())\n",
        "k = int(input().strip())\n",
        "ost = k - (k // n) * n\n",
        "print(ost)"
      ],
      "execution_count": null,
      "outputs": [
        {
          "output_type": "stream",
          "text": [
            "6\n",
            "20\n",
            "2\n"
          ],
          "name": "stdout"
        }
      ]
    }
  ]
}