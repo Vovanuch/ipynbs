{
  "nbformat": 4,
  "nbformat_minor": 0,
  "metadata": {
    "colab": {
      "name": "First_step_colab.ipynb",
      "provenance": [],
      "collapsed_sections": [],
      "authorship_tag": "ABX9TyOOyFEEKd+gCS1GaY5YQ8Hm",
      "include_colab_link": true
    },
    "kernelspec": {
      "name": "python3",
      "display_name": "Python 3"
    }
  },
  "cells": [
    {
      "cell_type": "markdown",
      "metadata": {
        "id": "view-in-github",
        "colab_type": "text"
      },
      "source": [
        "<a href=\"https://colab.research.google.com/github/Vovanuch/ipynbs/blob/main/First_step_colab.ipynb\" target=\"_parent\"><img src=\"https://colab.research.google.com/assets/colab-badge.svg\" alt=\"Open In Colab\"/></a>"
      ]
    },
    {
      "cell_type": "code",
      "metadata": {
        "id": "CLnZ9AK10tN_",
        "colab": {
          "base_uri": "https://localhost:8080/"
        },
        "outputId": "c2750235-68dd-4c76-d53d-9afd84244b8d"
      },
      "source": [
        "print(10*'a')\n"
      ],
      "execution_count": null,
      "outputs": [
        {
          "output_type": "stream",
          "text": [
            "aaaaaaaaaa\n"
          ],
          "name": "stdout"
        }
      ]
    },
    {
      "cell_type": "markdown",
      "metadata": {
        "id": "aQnOoDy61e_p"
      },
      "source": [
        "This is a test and first colab ipython!"
      ]
    },
    {
      "cell_type": "code",
      "metadata": {
        "colab": {
          "base_uri": "https://localhost:8080/"
        },
        "id": "UTU_HFzb1s73",
        "outputId": "4ab9a2e4-6a5e-48e6-9534-9763d18a955e"
      },
      "source": [
        "symb = ['@', '.']\n",
        "\n",
        "s = input().strip()\n",
        "if (symb[0] in s) and (symb[1] in s):\n",
        "    print('YES')\n",
        "else:\n",
        "    print('NO')"
      ],
      "execution_count": null,
      "outputs": [
        {
          "output_type": "stream",
          "text": [
            "v@ma.ru\n",
            "YES\n"
          ],
          "name": "stdout"
        }
      ]
    },
    {
      "cell_type": "code",
      "metadata": {
        "id": "2vvuzFmVvJ9O",
        "colab": {
          "base_uri": "https://localhost:8080/"
        },
        "outputId": "87582e9b-9a06-4ff9-ba9a-ba3eb70fb3a1"
      },
      "source": [
        "total = 0\n",
        "for i in range(1, 6):\n",
        "    total += i\n",
        "    print(total, end='')"
      ],
      "execution_count": null,
      "outputs": [
        {
          "output_type": "stream",
          "text": [
            "1361015"
          ],
          "name": "stdout"
        }
      ]
    }
  ]
}