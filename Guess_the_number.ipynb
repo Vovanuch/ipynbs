{
  "nbformat": 4,
  "nbformat_minor": 0,
  "metadata": {
    "colab": {
      "name": "Guess the number.ipynb",
      "provenance": [],
      "authorship_tag": "ABX9TyNyONMcKCglMddTFF2I/yht",
      "include_colab_link": true
    },
    "kernelspec": {
      "name": "python3",
      "display_name": "Python 3"
    }
  },
  "cells": [
    {
      "cell_type": "markdown",
      "metadata": {
        "id": "view-in-github",
        "colab_type": "text"
      },
      "source": [
        "<a href=\"https://colab.research.google.com/github/Vovanuch/ipynbs/blob/main/Guess_the_number.ipynb\" target=\"_parent\"><img src=\"https://colab.research.google.com/assets/colab-badge.svg\" alt=\"Open In Colab\"/></a>"
      ]
    },
    {
      "cell_type": "markdown",
      "metadata": {
        "id": "9BPvs-oOhu-n"
      },
      "source": [
        "## Числовая угадайка\n",
        "## Guess the number!"
      ]
    },
    {
      "cell_type": "code",
      "metadata": {
        "colab": {
          "base_uri": "https://localhost:8080/"
        },
        "id": "Yfrnqpj9hth7",
        "outputId": "a82d2184-9da2-4016-b3a7-12bb93e3f014"
      },
      "source": [
        "import random\n",
        "\n",
        "def is_valid(s, top):\n",
        "    if s.isdigit():\n",
        "        if 1 <= int(s) <= top:\n",
        "            return True\n",
        "    return False\n",
        "\n",
        "\n",
        "retry = True\n",
        "while retry:\n",
        "    print(\"Пожалуйста, укажите верхнюю границу (натуральное целое).\")\n",
        "    top = int(input())\n",
        "    n = random.randint(1, top)\n",
        "    \n",
        "    print('Добро пожаловать в числовую угадайку.')\n",
        "    print(f\"Загадано число от 1 до {top}. Попробуйте угадать!\")\n",
        "    counter = 0\n",
        "    while True:\n",
        "        user_number = input()\n",
        "        if not is_valid(user_number, top):\n",
        "            print(f'А может быть все-таки введем целое число от 1 до {top}?')\n",
        "        else:\n",
        "            user_number = int(user_number)\n",
        "            counter += 1\n",
        "            if n < user_number:\n",
        "                print('Ваше число больше загаданного, попробуйте еще разок')\n",
        "            elif n > user_number:\n",
        "                print('Ваше число меньше загаданного, попробуйте еще разок')\n",
        "            else:\n",
        "                print(f'Вы угадали, поздравляем! Сделано {counter} попыток.')\n",
        "                break\n",
        "    print('Спасибо, что играли в числовую угадайку. Хотите ещё раз? Если да, введите букву Д или Y.')\n",
        "    retry = input().strip()\n",
        "    if retry.upper() == 'Y' or retry.upper() == 'Д':\n",
        "        retry = True\n",
        "    else:\n",
        "        print('Успехов вам! До свидания!')\n",
        "        retry = False\n",
        "\n",
        "        "
      ],
      "execution_count": null,
      "outputs": [
        {
          "output_type": "stream",
          "text": [
            "Пожалуйста, укажите верхнюю границу (натуральное целое).\n",
            "30\n",
            "Добро пожаловать в числовую угадайку.\n",
            "Загадано число от 1 до 30. Попробуйте угадать!\n",
            "15\n",
            "Ваше число больше загаданного, попробуйте еще разок\n",
            "23\n",
            "Ваше число больше загаданного, попробуйте еще разок\n",
            "8\n",
            "Ваше число больше загаданного, попробуйте еще разок\n",
            "4\n",
            "Вы угадали, поздравляем! Сделано 4 попыток.\n",
            "Спасибо, что играли в числовую угадайку. Хотите ещё раз? Если да, введите букву Д или Y.\n",
            "Y\n",
            "Пожалуйста, укажите верхнюю границу (натуральное целое).\n",
            "50\n",
            "Добро пожаловать в числовую угадайку.\n",
            "Загадано число от 1 до 50. Попробуйте угадать!\n",
            "25\n",
            "Ваше число больше загаданного, попробуйте еще разок\n",
            "13\n",
            "Ваше число больше загаданного, попробуйте еще разок\n",
            "6\n",
            "Ваше число меньше загаданного, попробуйте еще разок\n",
            "9\n",
            "Вы угадали, поздравляем! Сделано 4 попыток.\n",
            "Спасибо, что играли в числовую угадайку. Хотите ещё раз? Если да, введите букву Д или Y.\n",
            "n\n",
            "Успехов вам! До свидания!\n"
          ],
          "name": "stdout"
        }
      ]
    }
  ]
}