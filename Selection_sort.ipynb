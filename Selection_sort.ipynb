{
  "nbformat": 4,
  "nbformat_minor": 0,
  "metadata": {
    "colab": {
      "name": "Selection_sort.ipynb",
      "provenance": [],
      "authorship_tag": "ABX9TyP3ki0XNGhc/lNKL7XUBPC1",
      "include_colab_link": true
    },
    "kernelspec": {
      "name": "python3",
      "display_name": "Python 3"
    }
  },
  "cells": [
    {
      "cell_type": "markdown",
      "metadata": {
        "id": "view-in-github",
        "colab_type": "text"
      },
      "source": [
        "<a href=\"https://colab.research.google.com/github/Vovanuch/ipynbs/blob/main/Selection_sort.ipynb\" target=\"_parent\"><img src=\"https://colab.research.google.com/assets/colab-badge.svg\" alt=\"Open In Colab\"/></a>"
      ]
    },
    {
      "cell_type": "markdown",
      "metadata": {
        "id": "bD17O4niZufh"
      },
      "source": [
        "## Сортировка выбором.  \n",
        "Cложность - О(n^2)"
      ]
    },
    {
      "cell_type": "code",
      "metadata": {
        "colab": {
          "base_uri": "https://localhost:8080/"
        },
        "id": "JFNlra9LZtO2",
        "outputId": "894623e5-121c-4eb9-95c7-f2dab0ed1279"
      },
      "source": [
        "def find_min(arr, start, end):\n",
        "    minimum = arr[start]\n",
        "    min_idx = start\n",
        "    for idx in range(start, end):\n",
        "        if arr[idx] < minimum:\n",
        "            minimum = arr[idx]\n",
        "            min_idx = idx\n",
        "    return min_idx\n",
        " \n",
        "def selection_sort(arr):\n",
        "    i = 0\n",
        "    arr_size = len(arr)\n",
        "    while i < arr_size:\n",
        "        # Находим минимальный элемент в оставшемся несортированном подмасссиве\n",
        "        min_idx = find_min(arr, i, arr_size)\n",
        "        # Меняем местами с arr[i]\n",
        "        arr[min_idx], arr[i] = arr[i], arr[min_idx]\n",
        "        i += 1\n",
        "    return arr\n",
        " \n",
        "a = [12, 7, 6, 16, 4]\n",
        "print(selection_sort(a))"
      ],
      "execution_count": null,
      "outputs": [
        {
          "output_type": "stream",
          "text": [
            "[4, 6, 7, 12, 16]\n"
          ],
          "name": "stdout"
        }
      ]
    },
    {
      "cell_type": "code",
      "metadata": {
        "id": "PzsS5XSLaVrQ"
      },
      "source": [
        ""
      ],
      "execution_count": null,
      "outputs": []
    }
  ]
}